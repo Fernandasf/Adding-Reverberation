{
 "cells": [
  {
   "cell_type": "code",
   "execution_count": null,
   "metadata": {
    "collapsed": true
   },
   "outputs": [],
   "source": [
    "#test of reverb function from pysox\n",
    "%matplotlib inline\n",
    "from matplotlib import pyplot as plt\n",
    "import sox\n",
    "import numpy as np\n",
    "from scipy.io.wavfile import read, write"
   ]
  },
  {
   "cell_type": "code",
   "execution_count": null,
   "metadata": {
    "collapsed": false
   },
   "outputs": [],
   "source": [
    "a = np.zeros( (44100*30,) )   # whatever size. initializes to zeros\n",
    "a[0] = 1.0\n",
    "\n",
    "fs = 44100\n",
    "T = 30 # seconds\n",
    "N = fs*T #samples numbers of signal\n",
    "\n",
    "t = np.linspace(0, T, N) # define time instant\n",
    "\n",
    "print len(a)\n",
    "print len(t)\n",
    "\n",
    "plt.plot(t,a)\n",
    "plt.xlabel('Tempo (s)')\n",
    "#plt.xlim(0, 0.001)\n",
    "plt.ylabel('Magnitude')\n",
    "plt.show()\n",
    "\n",
    "write(\"teste_imp6.wav\", fs, a)"
   ]
  },
  {
   "cell_type": "code",
   "execution_count": null,
   "metadata": {
    "collapsed": false
   },
   "outputs": [],
   "source": [
    "tfm = sox.Transformer()\n",
    "tfm.reverb(reverberance=100, high_freq_damping=50, room_scale=100, stereo_depth=100, pre_delay=0,\n",
    "wet_gain=0, wet_only=True)\n",
    "tfm.build('teste_imp6.wav', 'test_reverberation/imp6_sd100.wav')"
   ]
  },
  {
   "cell_type": "code",
   "execution_count": null,
   "metadata": {
    "collapsed": false
   },
   "outputs": [],
   "source": [
    "%matplotlib qt \n",
    "rate, data_rev10 = read('test_reverberation/imp6_sd10.wav')\n",
    "rate, data_rev20 = read('test_reverberation/imp6_sd20.wav')\n",
    "rate, data_rev30 = read('test_reverberation/imp6_sd30.wav')\n",
    "rate, data_rev40 = read('test_reverberation/imp6_sd40.wav')\n",
    "rate, data_rev50 = read('test_reverberation/imp6_sd50.wav')\n",
    "rate, data_rev60 = read('test_reverberation/imp6_sd60.wav')\n",
    "rate, data_rev70 = read('test_reverberation/imp6_sd70.wav')\n",
    "rate, data_rev80 = read('test_reverberation/imp6_sd80.wav')\n",
    "rate, data_rev90 = read('test_reverberation/imp6_sd90.wav')\n",
    "rate, data_rev100 = read('test_reverberation/imp6_sd100.wav')\n",
    "\n",
    "t = np.linspace(0, len(data_rev100)/rate, len(data_rev100))\n",
    "\n",
    "data_dB = 20*np.log10(data_rev100)\n",
    "\n",
    "#max_data = max(20*np.log10(data_rev100)) #max valor no eixo y em dB - valor do index=1341\n",
    "#min_t = t[data_dB.argmax()] #valor do eixo x correspondente ao valor max do eixo y\n",
    "#print \"valor max data:\", max_data, \"valor min t:\", min_t\n",
    "\n",
    "#delta60 = max_data - 60 #diferença do valor max menos 60 dB\n",
    "#print \"valor max-60dB:\" ,delta60\n",
    "\n",
    "#line_horiz = np.array([delta60 for i in xrange(len(t))])\n",
    "\n",
    "plt.figure(1)\n",
    "line2d = plt.plot(t,data_dB)\n",
    "plt.plot(t, line_horiz, 'r')\n",
    "#plt.xlim(0,3)\n",
    "plt.title(\"100\")\n",
    "plt.xlabel(\"Tempo\")\n",
    "plt.ylabel(\"Magnitude em dB\")\n",
    "xvalues = line2d[0].get_xdata()\n",
    "yvalues = line2d[0].get_ydata()\n",
    "plt.savefig('Reverb_100.pdf')\n",
    "plt.show()"
   ]
  }
 ],
 "metadata": {
  "kernelspec": {
   "display_name": "Python 2",
   "language": "python",
   "name": "python2"
  },
  "language_info": {
   "codemirror_mode": {
    "name": "ipython",
    "version": 2
   },
   "file_extension": ".py",
   "mimetype": "text/x-python",
   "name": "python",
   "nbconvert_exporter": "python",
   "pygments_lexer": "ipython2",
   "version": "2.7.6"
  }
 },
 "nbformat": 4,
 "nbformat_minor": 2
}
