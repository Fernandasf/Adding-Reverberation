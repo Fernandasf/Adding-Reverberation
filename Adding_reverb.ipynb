{
 "cells": [
  {
   "cell_type": "code",
   "execution_count": null,
   "metadata": {
    "collapsed": false
   },
   "outputs": [],
   "source": [
    "# Reveberation adding in dataset\n",
    "#import packages\n",
    "%matplotlib inline\n",
    "from matplotlib import pyplot as plt\n",
    "import sox\n",
    "import numpy as np\n",
    "from scipy.io.wavfile import read\n",
    "import scipy.signal"
   ]
  },
  {
   "cell_type": "code",
   "execution_count": null,
   "metadata": {
    "collapsed": false
   },
   "outputs": [],
   "source": [
    "import glob\n",
    "\n",
    "lista_audios = glob.glob('fernando_falas/*.wav')\n",
    "\n",
    "print len(lista_audios)\n",
    "#print lista_audios"
   ]
  },
  {
   "cell_type": "code",
   "execution_count": null,
   "metadata": {
    "collapsed": false
   },
   "outputs": [],
   "source": [
    "print lista_audios[0].split('/')\n",
    "path_out = 'dataset_noise_f/noise_100'\n",
    "file_name = lista_audios[0].split('/')[1]\n",
    "root_name, ext = file_name.split('.')\n",
    "file_output = root_name + '_100.' + ext\n",
    "#file_output = root_name + '.' + ext\n",
    "print file_output\n"
   ]
  },
  {
   "cell_type": "code",
   "execution_count": null,
   "metadata": {
    "collapsed": false
   },
   "outputs": [],
   "source": [
    "for audio in lista_audios:\n",
    "    file_name = audio.split('/')[1]\n",
    "    root_name, ext = file_name.split('.')\n",
    "    file_output = root_name + '_100.' + ext\n",
    "    #file_output = root_name + '.' + ext\n",
    "    out_name = path_out + '/' + file_output\n",
    "    # create trasnformer\n",
    "    tfm = sox.Transformer()\n",
    "    tfm.reverb(reverberance=50, high_freq_damping=50, room_scale=100, stereo_depth=100, pre_delay=0,\n",
    "wet_gain=0, wet_only=False) #standart\n",
    "    tfm.build(audio, out_name)"
   ]
  },
  {
   "cell_type": "code",
   "execution_count": null,
   "metadata": {
    "collapsed": false
   },
   "outputs": [],
   "source": [
    "#rename the clean dataset\n",
    "import glob\n",
    "\n",
    "lista_audios_limpos = glob.glob('fernando_falas/*.wav')\n",
    "\n",
    "print len(lista_audios_limpos)\n",
    "#print lista_audios_limpos\n",
    "\n",
    "print lista_audios_limpos[0].split('/')\n",
    "path_out = 'fernanda_falas/'\n",
    "file_name = lista_audios[0].split('/')[1]\n",
    "root_name, ext = file_name.split('.')\n",
    "file_output = root_name + '_14.' + ext\n",
    "print file_output"
   ]
  },
  {
   "cell_type": "code",
   "execution_count": null,
   "metadata": {
    "collapsed": false
   },
   "outputs": [],
   "source": [
    "for audio2 in lista_audios_limpos:\n",
    "    file_name = audio2.split('/')[1]\n",
    "    root_name, ext = file_name.split('.')\n",
    "    file_output = root_name + '_14.' + ext\n",
    "    #file_output = root_name + '.' + ext\n",
    "    out_name = path_out + '/' + file_output\n",
    "    # create trasnformer\n",
    "    tfm = sox.Transformer()\n",
    "    tfm.build(audio2, out_name)"
   ]
  }
 ],
 "metadata": {
  "kernelspec": {
   "display_name": "Python 2",
   "language": "python",
   "name": "python2"
  },
  "language_info": {
   "codemirror_mode": {
    "name": "ipython",
    "version": 2
   },
   "file_extension": ".py",
   "mimetype": "text/x-python",
   "name": "python",
   "nbconvert_exporter": "python",
   "pygments_lexer": "ipython2",
   "version": "2.7.6"
  }
 },
 "nbformat": 4,
 "nbformat_minor": 0
}
